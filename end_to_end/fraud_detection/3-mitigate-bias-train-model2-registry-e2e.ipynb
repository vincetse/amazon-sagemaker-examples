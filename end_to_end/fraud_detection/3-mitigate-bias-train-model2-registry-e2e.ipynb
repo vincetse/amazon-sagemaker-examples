{
 "cells": [
  {
   "cell_type": "markdown",
   "metadata": {},
   "source": [
    "# Fraud Detection for Automobile Claims: Mitigate Bias, Train, Register, and Deploy Unbiased Model"
   ]
  },
  {
   "cell_type": "markdown",
   "metadata": {},
   "source": [
    "## Background\n",
    "\n",
    "This notebook is the fourth part of a series of notebooks that will demonstrate how to prepare, train, and deploy a model that detects fradulent auto claims. In this notebook, we will describe how to detect bias using Clarify, mitigate it with SMOTE, train another model, put it in the Model Registry along with all the Lineage of the Artifacts created along the way: data, code and model metadata. You can choose to run this notebook by itself or in sequence with the other notebooks listed below. Please see the [README.md](README.md) for more information about this use case implemented by this series of notebooks. \n",
    "\n",
    "\n",
    "1. [Fraud Detection for Automobile Claims: Data Exploration](./0-AutoClaimFraudDetection.ipynb)\n",
    "1. [Fraud Detection for Automobile Claims: Data Preparation, Process, and Store Features](./1-data-prep-e2e.ipynb)\n",
    "1. [Fraud Detection for Automobile Claims: Train, Check Bias, Tune, Record Lineage, and Register a Model](./2-lineage-train-assess-bias-tune-registry-e2e.ipynb)\n",
    "1. **[Fraud Detection for Automobile Claims: Mitigate Bias, Train, Register, and Deploy Unbiased Model](./3-mitigate-bias-train-model2-registry-e2e.ipynb)**\n",
    "\n",
    "\n",
    "## Contents\n",
    "1. [Architecture: Train, Check Bias, Tune, Record Lineage, Register Model](#Architecture:-Train,-Check-Bias,-Tune,-Record-Lineage,-Register-Model)\n",
    "1. [Develop an Unbiased Model](#Develop-an-Unbiased-Model)\n",
    "1. [Analyze Model for Bias and Explainability](#Analyze-Model-for-Bias-and-Explainability)\n",
    "1. [View Results of Clarify Job](#View-Results-of-Clarify-Job)\n",
    "1. [Configure and Run Explainability Job](#Configure-and-Run-Explainability-Job)\n",
    "1. [Create Model Package for the Trained Model](#Create-Model-Package-for-the-Trained-Model)\n",
    "1. [Architecture: Deploy and Serve Model](#Architecture:-Deploy-and-Serve-Model)\n",
    "1. [Deploy an Approved Model](#Deploy-an-Approved-Model)\n",
    "1. [Run Predictions on Claims](#Run-Predictions-on-Claims)"
   ]
  },
  {
   "cell_type": "markdown",
   "metadata": {},
   "source": [
    "### Install required and/or update third-party libraries"
   ]
  },
  {
   "cell_type": "code",
   "execution_count": 1,
   "metadata": {},
   "outputs": [],
   "source": [
    "!python -m pip install -Uq pip\n",
    "!python -m pip install -q awswrangler==2.2.0 imbalanced-learn==0.7.0 sagemaker==2.23.0 boto3==1.17.70"
   ]
  },
  {
   "cell_type": "markdown",
   "metadata": {},
   "source": [
    "### Import libraries"
   ]
  },
  {
   "cell_type": "code",
   "execution_count": 2,
   "metadata": {},
   "outputs": [],
   "source": [
    "import json\n",
    "import time\n",
    "import boto3\n",
    "import sagemaker\n",
    "import numpy as np\n",
    "import pandas as pd\n",
    "import awswrangler as wr\n",
    "import matplotlib.pyplot as plt\n",
    "from imblearn.over_sampling import SMOTE\n",
    "from sagemaker.xgboost.estimator import XGBoost\n",
    "\n",
    "from model_package_src.inference_specification import InferenceSpecification\n",
    "\n",
    "%matplotlib inline"
   ]
  },
  {
   "cell_type": "markdown",
   "metadata": {},
   "source": [
    "### Set region, boto3 and SageMaker SDK variables"
   ]
  },
  {
   "cell_type": "code",
   "execution_count": 3,
   "metadata": {},
   "outputs": [
    {
     "name": "stdout",
     "output_type": "stream",
     "text": [
      "Using AWS Region: us-east-1\n"
     ]
    }
   ],
   "source": [
    "# You can change this to a region of your choice\n",
    "import sagemaker\n",
    "\n",
    "region = sagemaker.Session().boto_region_name\n",
    "print(\"Using AWS Region: {}\".format(region))"
   ]
  },
  {
   "cell_type": "code",
   "execution_count": 4,
   "metadata": {},
   "outputs": [],
   "source": [
    "boto3.setup_default_session(region_name=region)\n",
    "\n",
    "boto_session = boto3.Session(region_name=region)\n",
    "\n",
    "s3_client = boto3.client(\"s3\", region_name=region)\n",
    "\n",
    "sagemaker_boto_client = boto_session.client(\"sagemaker\")\n",
    "\n",
    "sagemaker_session = sagemaker.Session(\n",
    "    boto_session=boto_session, sagemaker_client=sagemaker_boto_client\n",
    ")\n",
    "\n",
    "sagemaker_role = sagemaker.get_execution_role()\n",
    "\n",
    "account_id = boto3.client(\"sts\").get_caller_identity()[\"Account\"]"
   ]
  },
  {
   "cell_type": "code",
   "execution_count": 5,
   "metadata": {},
   "outputs": [],
   "source": [
    "# variables used for parameterizing the notebook run\n",
    "bucket = sagemaker_session.default_bucket()\n",
    "prefix = \"fraud-detect-demo\"\n",
    "\n",
    "claims_fg_name = f\"{prefix}-claims\"\n",
    "customers_fg_name = f\"{prefix}-customers\"\n",
    "\n",
    "model_2_name = f\"{prefix}-xgboost-post-smote\"\n",
    "\n",
    "train_data_upsampled_s3_path = f\"s3://{bucket}/{prefix}/data/train/upsampled/train.csv\"\n",
    "bias_report_2_output_path = f\"s3://{bucket}/{prefix}/clarify-output/bias-2\"\n",
    "explainability_output_path = f\"s3://{bucket}/{prefix}/clarify-output/explainability\"\n",
    "\n",
    "train_instance_count = 1\n",
    "train_instance_type = \"ml.m4.xlarge\"\n",
    "\n",
    "claify_instance_count = 1\n",
    "clairfy_instance_type = \"ml.c5.xlarge\""
   ]
  },
  {
   "cell_type": "markdown",
   "metadata": {},
   "source": [
    "## Architecture: Train, Check Bias, Tune, Record Lineage, Register Model\n",
    "----\n",
    "\n",
    "![train-assess-tune-register](./images/e2e-2-pipeline-v3b.png)"
   ]
  },
  {
   "cell_type": "markdown",
   "metadata": {},
   "source": [
    "## Develop an Unbiased Model\n",
    "----\n",
    "\n",
    "In this second model, you will fix the gender imbalance in the dataset using SMOTE and train another model using XGBoost. This model will also be saved to our registry and eventually approved for deployment."
   ]
  },
  {
   "cell_type": "code",
   "execution_count": 6,
   "metadata": {},
   "outputs": [],
   "source": [
    "train = pd.read_csv(\"data/train.csv\")\n",
    "test = pd.read_csv(\"data/test.csv\")"
   ]
  },
  {
   "cell_type": "markdown",
   "metadata": {},
   "source": [
    "<a id='smote'></a>\n",
    "\n",
    "### Resolve class imbalance using SMOTE\n",
    "\n",
    "To handle the imbalance, we can over-sample (i.e. upsample) the minority class using [SMOTE (Synthetic Minority Over-sampling Technique)](https://arxiv.org/pdf/1106.1813.pdf). After installing the imbalanced-learn module, if you receive an ImportError when importing SMOTE, then try restarting the kernel. "
   ]
  },
  {
   "cell_type": "markdown",
   "metadata": {},
   "source": [
    "#### Gender balance before SMOTE"
   ]
  },
  {
   "cell_type": "code",
   "execution_count": 7,
   "metadata": {},
   "outputs": [
    {
     "data": {
      "text/plain": [
       "0    2778\n",
       "1    1222\n",
       "Name: customer_gender_female, dtype: int64"
      ]
     },
     "execution_count": 7,
     "metadata": {},
     "output_type": "execute_result"
    }
   ],
   "source": [
    "gender = train[\"customer_gender_female\"]\n",
    "gender.value_counts()"
   ]
  },
  {
   "cell_type": "markdown",
   "metadata": {},
   "source": [
    "#### Gender balance after SMOTE"
   ]
  },
  {
   "cell_type": "code",
   "execution_count": 8,
   "metadata": {},
   "outputs": [
    {
     "data": {
      "text/plain": [
       "1    2778\n",
       "0    2778\n",
       "Name: customer_gender_female, dtype: int64"
      ]
     },
     "execution_count": 8,
     "metadata": {},
     "output_type": "execute_result"
    }
   ],
   "source": [
    "sm = SMOTE(random_state=42)\n",
    "train_data_upsampled, gender_res = sm.fit_resample(train, gender)\n",
    "train_data_upsampled[\"customer_gender_female\"].value_counts()"
   ]
  },
  {
   "cell_type": "markdown",
   "metadata": {},
   "source": [
    "### Set the hyperparameters\n",
    "These are the parameters which will be sent to our training script in order to train the model. Although they are all defined as \"hyperparameters\" here, they can encompass XGBoost's [Learning Task Parameters](https://xgboost.readthedocs.io/en/latest/parameter.html#learning-task-parameters), [Tree Booster Parameters](https://xgboost.readthedocs.io/en/latest/parameter.html#parameters-for-tree-booster), or any other parameters you'd like to configure for XGBoost."
   ]
  },
  {
   "cell_type": "code",
   "execution_count": 9,
   "metadata": {},
   "outputs": [],
   "source": [
    "hyperparameters = {\n",
    "    \"max_depth\": \"3\",\n",
    "    \"eta\": \"0.2\",\n",
    "    \"objective\": \"binary:logistic\",\n",
    "    \"num_round\": \"100\",\n",
    "}"
   ]
  },
  {
   "cell_type": "markdown",
   "metadata": {},
   "source": [
    "### Train new model\n"
   ]
  },
  {
   "cell_type": "code",
   "execution_count": 10,
   "metadata": {},
   "outputs": [],
   "source": [
    "train_data_upsampled.to_csv(\"data/upsampled_train.csv\", index=False)\n",
    "s3_client.upload_file(\n",
    "    Filename=\"data/upsampled_train.csv\",\n",
    "    Bucket=bucket,\n",
    "    Key=f\"{prefix}/data/train/upsampled/train.csv\",\n",
    ")"
   ]
  },
  {
   "cell_type": "code",
   "execution_count": 11,
   "metadata": {},
   "outputs": [],
   "source": [
    "xgb_estimator = XGBoost(\n",
    "    entry_point=\"xgboost_starter_script.py\",\n",
    "    hyperparameters=hyperparameters,\n",
    "    role=sagemaker_role,\n",
    "    instance_count=train_instance_count,\n",
    "    instance_type=train_instance_type,\n",
    "    framework_version=\"1.0-1\",\n",
    ")"
   ]
  },
  {
   "cell_type": "code",
   "execution_count": 12,
   "metadata": {
    "scrolled": true
   },
   "outputs": [
    {
     "name": "stdout",
     "output_type": "stream",
     "text": [
      "2022-10-03 16:27:33 Starting - Starting the training job...ProfilerReport-1664814453: InProgress\n",
      "...\n",
      "2022-10-03 16:28:25 Starting - Preparing the instances for training.........\n",
      "2022-10-03 16:29:45 Downloading - Downloading input data...\n",
      "2022-10-03 16:30:27 Training - Downloading the training image......\n",
      "2022-10-03 16:31:33 Uploading - Uploading generated training model\u001b[34mINFO:sagemaker-containers:Imported framework sagemaker_xgboost_container.training\u001b[0m\n",
      "\u001b[34mINFO:sagemaker-containers:No GPUs detected (normal if no gpus installed)\u001b[0m\n",
      "\u001b[34mINFO:sagemaker_xgboost_container.training:Invoking user training script.\u001b[0m\n",
      "\u001b[34mINFO:sagemaker-containers:Module xgboost_starter_script does not provide a setup.py. \u001b[0m\n",
      "\u001b[34mGenerating setup.py\u001b[0m\n",
      "\u001b[34mINFO:sagemaker-containers:Generating setup.cfg\u001b[0m\n",
      "\u001b[34mINFO:sagemaker-containers:Generating MANIFEST.in\u001b[0m\n",
      "\u001b[34mINFO:sagemaker-containers:Installing module with the following command:\u001b[0m\n",
      "\u001b[34m/miniconda3/bin/python3 -m pip install . \u001b[0m\n",
      "\u001b[34mProcessing /opt/ml/code\u001b[0m\n",
      "\u001b[34mBuilding wheels for collected packages: xgboost-starter-script\n",
      "  Building wheel for xgboost-starter-script (setup.py): started\n",
      "  Building wheel for xgboost-starter-script (setup.py): finished with status 'done'\n",
      "  Created wheel for xgboost-starter-script: filename=xgboost_starter_script-1.0.0-py2.py3-none-any.whl size=5009 sha256=1f40b2381bc3a1893da6b75905166b9258e457de71a515645900e13d709c7c00\n",
      "  Stored in directory: /home/model-server/tmp/pip-ephem-wheel-cache-dc34_c2q/wheels/95/c1/85/65aaf48b35aba88c6e896d2fd04a4b69f1cee0d81ea32993ca\u001b[0m\n",
      "\u001b[34mSuccessfully built xgboost-starter-script\u001b[0m\n",
      "\u001b[34mInstalling collected packages: xgboost-starter-script\u001b[0m\n",
      "\u001b[34mSuccessfully installed xgboost-starter-script-1.0.0\u001b[0m\n",
      "\u001b[34mINFO:sagemaker-containers:No GPUs detected (normal if no gpus installed)\u001b[0m\n",
      "\u001b[34mINFO:sagemaker-containers:Invoking user script\u001b[0m\n",
      "\u001b[34mTraining Env:\u001b[0m\n",
      "\u001b[34m{\n",
      "    \"additional_framework_parameters\": {},\n",
      "    \"channel_input_dirs\": {\n",
      "        \"train\": \"/opt/ml/input/data/train\"\n",
      "    },\n",
      "    \"current_host\": \"algo-1\",\n",
      "    \"framework_module\": \"sagemaker_xgboost_container.training:main\",\n",
      "    \"hosts\": [\n",
      "        \"algo-1\"\n",
      "    ],\n",
      "    \"hyperparameters\": {\n",
      "        \"eta\": \"0.2\",\n",
      "        \"max_depth\": \"3\",\n",
      "        \"num_round\": \"100\",\n",
      "        \"objective\": \"binary:logistic\"\n",
      "    },\n",
      "    \"input_config_dir\": \"/opt/ml/input/config\",\n",
      "    \"input_data_config\": {\n",
      "        \"train\": {\n",
      "            \"TrainingInputMode\": \"File\",\n",
      "            \"S3DistributionType\": \"FullyReplicated\",\n",
      "            \"RecordWrapperType\": \"None\"\n",
      "        }\n",
      "    },\n",
      "    \"input_dir\": \"/opt/ml/input\",\n",
      "    \"is_master\": true,\n",
      "    \"job_name\": \"sagemaker-xgboost-2022-10-03-16-27-33-159\",\n",
      "    \"log_level\": 20,\n",
      "    \"master_hostname\": \"algo-1\",\n",
      "    \"model_dir\": \"/opt/ml/model\",\n",
      "    \"module_dir\": \"s3://sagemaker-us-east-1-326383828736/sagemaker-xgboost-2022-10-03-16-27-33-159/source/sourcedir.tar.gz\",\n",
      "    \"module_name\": \"xgboost_starter_script\",\n",
      "    \"network_interface_name\": \"eth0\",\n",
      "    \"num_cpus\": 4,\n",
      "    \"num_gpus\": 0,\n",
      "    \"output_data_dir\": \"/opt/ml/output/data\",\n",
      "    \"output_dir\": \"/opt/ml/output\",\n",
      "    \"output_intermediate_dir\": \"/opt/ml/output/intermediate\",\n",
      "    \"resource_config\": {\n",
      "        \"current_host\": \"algo-1\",\n",
      "        \"current_instance_type\": \"ml.m4.xlarge\",\n",
      "        \"current_group_name\": \"homogeneousCluster\",\n",
      "        \"hosts\": [\n",
      "            \"algo-1\"\n",
      "        ],\n",
      "        \"instance_groups\": [\n",
      "            {\n",
      "                \"instance_group_name\": \"homogeneousCluster\",\n",
      "                \"instance_type\": \"ml.m4.xlarge\",\n",
      "                \"hosts\": [\n",
      "                    \"algo-1\"\n",
      "                ]\n",
      "            }\n",
      "        ],\n",
      "        \"network_interface_name\": \"eth0\"\n",
      "    },\n",
      "    \"user_entry_point\": \"xgboost_starter_script.py\"\u001b[0m\n",
      "\u001b[34m}\u001b[0m\n",
      "\u001b[34mEnvironment variables:\u001b[0m\n",
      "\u001b[34mSM_HOSTS=[\"algo-1\"]\u001b[0m\n",
      "\u001b[34mSM_NETWORK_INTERFACE_NAME=eth0\u001b[0m\n",
      "\u001b[34mSM_HPS={\"eta\":\"0.2\",\"max_depth\":\"3\",\"num_round\":\"100\",\"objective\":\"binary:logistic\"}\u001b[0m\n",
      "\u001b[34mSM_USER_ENTRY_POINT=xgboost_starter_script.py\u001b[0m\n",
      "\u001b[34mSM_FRAMEWORK_PARAMS={}\u001b[0m\n",
      "\u001b[34mSM_RESOURCE_CONFIG={\"current_group_name\":\"homogeneousCluster\",\"current_host\":\"algo-1\",\"current_instance_type\":\"ml.m4.xlarge\",\"hosts\":[\"algo-1\"],\"instance_groups\":[{\"hosts\":[\"algo-1\"],\"instance_group_name\":\"homogeneousCluster\",\"instance_type\":\"ml.m4.xlarge\"}],\"network_interface_name\":\"eth0\"}\u001b[0m\n",
      "\u001b[34mSM_INPUT_DATA_CONFIG={\"train\":{\"RecordWrapperType\":\"None\",\"S3DistributionType\":\"FullyReplicated\",\"TrainingInputMode\":\"File\"}}\u001b[0m\n",
      "\u001b[34mSM_OUTPUT_DATA_DIR=/opt/ml/output/data\u001b[0m\n",
      "\u001b[34mSM_CHANNELS=[\"train\"]\u001b[0m\n",
      "\u001b[34mSM_CURRENT_HOST=algo-1\u001b[0m\n",
      "\u001b[34mSM_MODULE_NAME=xgboost_starter_script\u001b[0m\n",
      "\u001b[34mSM_LOG_LEVEL=20\u001b[0m\n",
      "\u001b[34mSM_FRAMEWORK_MODULE=sagemaker_xgboost_container.training:main\u001b[0m\n",
      "\u001b[34mSM_INPUT_DIR=/opt/ml/input\u001b[0m\n",
      "\u001b[34mSM_INPUT_CONFIG_DIR=/opt/ml/input/config\u001b[0m\n",
      "\u001b[34mSM_OUTPUT_DIR=/opt/ml/output\u001b[0m\n",
      "\u001b[34mSM_NUM_CPUS=4\u001b[0m\n",
      "\u001b[34mSM_NUM_GPUS=0\u001b[0m\n",
      "\u001b[34mSM_MODEL_DIR=/opt/ml/model\u001b[0m\n",
      "\u001b[34mSM_MODULE_DIR=s3://sagemaker-us-east-1-326383828736/sagemaker-xgboost-2022-10-03-16-27-33-159/source/sourcedir.tar.gz\u001b[0m\n",
      "\u001b[34mSM_TRAINING_ENV={\"additional_framework_parameters\":{},\"channel_input_dirs\":{\"train\":\"/opt/ml/input/data/train\"},\"current_host\":\"algo-1\",\"framework_module\":\"sagemaker_xgboost_container.training:main\",\"hosts\":[\"algo-1\"],\"hyperparameters\":{\"eta\":\"0.2\",\"max_depth\":\"3\",\"num_round\":\"100\",\"objective\":\"binary:logistic\"},\"input_config_dir\":\"/opt/ml/input/config\",\"input_data_config\":{\"train\":{\"RecordWrapperType\":\"None\",\"S3DistributionType\":\"FullyReplicated\",\"TrainingInputMode\":\"File\"}},\"input_dir\":\"/opt/ml/input\",\"is_master\":true,\"job_name\":\"sagemaker-xgboost-2022-10-03-16-27-33-159\",\"log_level\":20,\"master_hostname\":\"algo-1\",\"model_dir\":\"/opt/ml/model\",\"module_dir\":\"s3://sagemaker-us-east-1-326383828736/sagemaker-xgboost-2022-10-03-16-27-33-159/source/sourcedir.tar.gz\",\"module_name\":\"xgboost_starter_script\",\"network_interface_name\":\"eth0\",\"num_cpus\":4,\"num_gpus\":0,\"output_data_dir\":\"/opt/ml/output/data\",\"output_dir\":\"/opt/ml/output\",\"output_intermediate_dir\":\"/opt/ml/output/intermediate\",\"resource_config\":{\"current_group_name\":\"homogeneousCluster\",\"current_host\":\"algo-1\",\"current_instance_type\":\"ml.m4.xlarge\",\"hosts\":[\"algo-1\"],\"instance_groups\":[{\"hosts\":[\"algo-1\"],\"instance_group_name\":\"homogeneousCluster\",\"instance_type\":\"ml.m4.xlarge\"}],\"network_interface_name\":\"eth0\"},\"user_entry_point\":\"xgboost_starter_script.py\"}\u001b[0m\n",
      "\u001b[34mSM_USER_ARGS=[\"--eta\",\"0.2\",\"--max_depth\",\"3\",\"--num_round\",\"100\",\"--objective\",\"binary:logistic\"]\u001b[0m\n",
      "\u001b[34mSM_OUTPUT_INTERMEDIATE_DIR=/opt/ml/output/intermediate\u001b[0m\n",
      "\u001b[34mSM_CHANNEL_TRAIN=/opt/ml/input/data/train\u001b[0m\n",
      "\u001b[34mSM_HP_ETA=0.2\u001b[0m\n",
      "\u001b[34mSM_HP_MAX_DEPTH=3\u001b[0m\n",
      "\u001b[34mSM_HP_NUM_ROUND=100\u001b[0m\n",
      "\u001b[34mSM_HP_OBJECTIVE=binary:logistic\u001b[0m\n",
      "\u001b[34mPYTHONPATH=/miniconda3/bin:/:/miniconda3/lib/python3.6/site-packages/xgboost/dmlc-core/tracker:/miniconda3/lib/python36.zip:/miniconda3/lib/python3.6:/miniconda3/lib/python3.6/lib-dynload:/miniconda3/lib/python3.6/site-packages\u001b[0m\n",
      "\u001b[34mInvoking script with the following command:\u001b[0m\n",
      "\u001b[34m/miniconda3/bin/python3 -m xgboost_starter_script --eta 0.2 --max_depth 3 --num_round 100 --objective binary:logistic\u001b[0m\n",
      "\u001b[34m[0]#011train-auc:0.9234384\u001b[0m\n",
      "\u001b[34m[1]#011validation-auc:0.8206022000000001\u001b[0m\n",
      "\n",
      "2022-10-03 16:31:50 Completed - Training job completed\n",
      "Training seconds: 128\n",
      "Billable seconds: 128\n"
     ]
    }
   ],
   "source": [
    "if \"training_job_2_name\" not in locals():\n",
    "\n",
    "    xgb_estimator.fit(inputs={\"train\": train_data_upsampled_s3_path})\n",
    "    training_job_2_name = xgb_estimator.latest_training_job.job_name\n",
    "\n",
    "else:\n",
    "\n",
    "    print(f\"Using previous training job: {training_job_2_name}\")"
   ]
  },
  {
   "cell_type": "markdown",
   "metadata": {},
   "source": [
    "### Register artifacts"
   ]
  },
  {
   "cell_type": "code",
   "execution_count": 13,
   "metadata": {},
   "outputs": [],
   "source": [
    "training_job_2_info = sagemaker_boto_client.describe_training_job(\n",
    "    TrainingJobName=training_job_2_name\n",
    ")"
   ]
  },
  {
   "cell_type": "markdown",
   "metadata": {},
   "source": [
    "#### Code artifact"
   ]
  },
  {
   "cell_type": "code",
   "execution_count": 14,
   "metadata": {},
   "outputs": [
    {
     "name": "stdout",
     "output_type": "stream",
     "text": [
      "Create artifact arn:aws:sagemaker:us-east-1:326383828736:artifact/125408cd8e818dd01d3c894a15d4eb94: SUCCESSFUL\n"
     ]
    }
   ],
   "source": [
    "# return any existing artifact which match the our training job's code arn\n",
    "code_s3_uri = training_job_2_info[\"HyperParameters\"][\"sagemaker_submit_directory\"]\n",
    "\n",
    "list_response = list(\n",
    "    sagemaker.lineage.artifact.Artifact.list(\n",
    "        source_uri=code_s3_uri, sagemaker_session=sagemaker_session\n",
    "    )\n",
    ")\n",
    "\n",
    "# use existing arifact if it's already been created, otherwise create a new artifact\n",
    "if list_response:\n",
    "    code_artifact = list_response[0]\n",
    "    print(f\"Using existing artifact: {code_artifact.artifact_arn}\")\n",
    "else:\n",
    "    code_artifact = sagemaker.lineage.artifact.Artifact.create(\n",
    "        artifact_name=\"TrainingScript\",\n",
    "        source_uri=code_s3_uri,\n",
    "        artifact_type=\"Code\",\n",
    "        sagemaker_session=sagemaker_session,\n",
    "    )\n",
    "    print(f\"Create artifact {code_artifact.artifact_arn}: SUCCESSFUL\")"
   ]
  },
  {
   "cell_type": "markdown",
   "metadata": {},
   "source": [
    "#### Training data artifact"
   ]
  },
  {
   "cell_type": "code",
   "execution_count": 15,
   "metadata": {},
   "outputs": [
    {
     "name": "stdout",
     "output_type": "stream",
     "text": [
      "Using existing artifact: arn:aws:sagemaker:us-east-1:326383828736:artifact/710d0367d915cad94ecbe63301ebfee0\n"
     ]
    }
   ],
   "source": [
    "training_data_s3_uri = training_job_2_info[\"InputDataConfig\"][0][\"DataSource\"][\"S3DataSource\"][\n",
    "    \"S3Uri\"\n",
    "]\n",
    "\n",
    "list_response = list(\n",
    "    sagemaker.lineage.artifact.Artifact.list(\n",
    "        source_uri=training_data_s3_uri, sagemaker_session=sagemaker_session\n",
    "    )\n",
    ")\n",
    "\n",
    "if list_response:\n",
    "    training_data_artifact = list_response[0]\n",
    "    print(f\"Using existing artifact: {training_data_artifact.artifact_arn}\")\n",
    "else:\n",
    "    training_data_artifact = sagemaker.lineage.artifact.Artifact.create(\n",
    "        artifact_name=\"TrainingData\",\n",
    "        source_uri=training_data_s3_uri,\n",
    "        artifact_type=\"Dataset\",\n",
    "        sagemaker_session=sagemaker_session,\n",
    "    )\n",
    "    print(f\"Create artifact {training_data_artifact.artifact_arn}: SUCCESSFUL\")"
   ]
  },
  {
   "cell_type": "markdown",
   "metadata": {},
   "source": [
    "#### Model artifact"
   ]
  },
  {
   "cell_type": "code",
   "execution_count": 16,
   "metadata": {},
   "outputs": [
    {
     "name": "stdout",
     "output_type": "stream",
     "text": [
      "Using existing artifact: arn:aws:sagemaker:us-east-1:326383828736:artifact/42734cfca1cabc6f4b290cbe7ae9cdbc\n"
     ]
    }
   ],
   "source": [
    "trained_model_s3_uri = training_job_2_info[\"ModelArtifacts\"][\"S3ModelArtifacts\"]\n",
    "\n",
    "list_response = list(\n",
    "    sagemaker.lineage.artifact.Artifact.list(\n",
    "        source_uri=trained_model_s3_uri, sagemaker_session=sagemaker_session\n",
    "    )\n",
    ")\n",
    "\n",
    "if list_response:\n",
    "    model_artifact = list_response[0]\n",
    "    print(f\"Using existing artifact: {model_artifact.artifact_arn}\")\n",
    "else:\n",
    "    model_artifact = sagemaker.lineage.artifact.Artifact.create(\n",
    "        artifact_name=\"TrainedModel\",\n",
    "        source_uri=trained_model_s3_uri,\n",
    "        artifact_type=\"Model\",\n",
    "        sagemaker_session=sagemaker_session,\n",
    "    )\n",
    "    print(f\"Create artifact {model_artifact.artifact_arn}: SUCCESSFUL\")"
   ]
  },
  {
   "cell_type": "markdown",
   "metadata": {},
   "source": [
    "### Set artifact associations"
   ]
  },
  {
   "cell_type": "code",
   "execution_count": 17,
   "metadata": {},
   "outputs": [],
   "source": [
    "trial_component = sagemaker_boto_client.describe_trial_component(\n",
    "    TrialComponentName=training_job_2_name + \"-aws-training-job\"\n",
    ")\n",
    "trial_component_arn = trial_component[\"TrialComponentArn\"]"
   ]
  },
  {
   "cell_type": "markdown",
   "metadata": {},
   "source": [
    "#### Input artifacts"
   ]
  },
  {
   "cell_type": "code",
   "execution_count": 18,
   "metadata": {},
   "outputs": [
    {
     "name": "stdout",
     "output_type": "stream",
     "text": [
      "Associate arn:aws:sagemaker:us-east-1:326383828736:experiment-trial-component/sagemaker-xgboost-2022-10-03-16-27-33-159-aws-training-job and arn:aws:sagemaker:us-east-1:326383828736:artifact/125408cd8e818dd01d3c894a15d4eb94: SUCCEESFUL\n",
      "\n",
      "Association already exists between arn:aws:sagemaker:us-east-1:326383828736:experiment-trial-component/sagemaker-xgboost-2022-10-03-16-27-33-159-aws-training-job and arn:aws:sagemaker:us-east-1:326383828736:artifact/710d0367d915cad94ecbe63301ebfee0.\n",
      "\n"
     ]
    }
   ],
   "source": [
    "input_artifacts = [code_artifact, training_data_artifact]\n",
    "\n",
    "for a in input_artifacts:\n",
    "    try:\n",
    "        sagemaker.lineage.association.Association.create(\n",
    "            source_arn=a.artifact_arn,\n",
    "            destination_arn=trial_component_arn,\n",
    "            association_type=\"ContributedTo\",\n",
    "            sagemaker_session=sagemaker_session,\n",
    "        )\n",
    "        print(f\"Associate {trial_component_arn} and {a.artifact_arn}: SUCCEESFUL\\n\")\n",
    "    except:\n",
    "        print(f\"Association already exists between {trial_component_arn} and {a.artifact_arn}.\\n\")"
   ]
  },
  {
   "cell_type": "markdown",
   "metadata": {},
   "source": [
    "#### Output artifacts"
   ]
  },
  {
   "cell_type": "code",
   "execution_count": 19,
   "metadata": {},
   "outputs": [
    {
     "name": "stdout",
     "output_type": "stream",
     "text": [
      "Association already exists between arn:aws:sagemaker:us-east-1:326383828736:experiment-trial-component/sagemaker-xgboost-2022-10-03-16-27-33-159-aws-training-job and arn:aws:sagemaker:us-east-1:326383828736:artifact/710d0367d915cad94ecbe63301ebfee0.\n",
      "\n"
     ]
    }
   ],
   "source": [
    "output_artifacts = [model_artifact]\n",
    "\n",
    "for artifact_arn in output_artifacts:\n",
    "    try:\n",
    "        sagemaker.lineage.association.Association.create(\n",
    "            source_arn=a.artifact_arn,\n",
    "            destination_arn=trial_component_arn,\n",
    "            association_type=\"Produced\",\n",
    "            sagemaker_session=sagemaker_session,\n",
    "        )\n",
    "        print(f\"Associate {trial_component_arn} and {a.artifact_arn}: SUCCEESFUL\\n\")\n",
    "    except:\n",
    "        print(f\"Association already exists between {trial_component_arn} and {a.artifact_arn}.\\n\")"
   ]
  },
  {
   "cell_type": "markdown",
   "metadata": {},
   "source": [
    "## Analyze Model for Bias and Explainability\n",
    "----\n",
    "\n",
    "Amazon SageMaker Clarify provides tools to help explain how machine learning (ML) models make predictions. These tools can help ML modelers and developers and other internal stakeholders understand model characteristics as a whole prior to deployment and to debug predictions provided by the model after it's deployed. Transparency about how ML models arrive at their predictions is also critical to consumers and regulators who need to trust the model predictions if they are going to accept the decisions based on them. SageMaker Clarify uses a model-agnostic feature attribution approach, which you can used to understand why a model made a prediction after training and to provide per-instance explanation during inference. The implementation includes a scalable and efficient implementation of SHAP ([see paper](https://papers.nips.cc/paper/2017/file/8a20a8621978632d76c43dfd28b67767-Paper.pdf)), based on the concept of a Shapley value from the field of cooperative game theory that assigns each feature an importance value for a particular prediction. "
   ]
  },
  {
   "cell_type": "markdown",
   "metadata": {},
   "source": [
    "### Create model from estimator"
   ]
  },
  {
   "cell_type": "code",
   "execution_count": 20,
   "metadata": {},
   "outputs": [],
   "source": [
    "def delete_model_if_exists(sagemaker_session, model_name):\n",
    "    try:\n",
    "        model_exists = sagemaker_session.describe_model(model_name)\n",
    "        while model_exists:\n",
    "            sagemaker_session.delete_model(model_name)\n",
    "            time.sleep(5)\n",
    "            model_exists = sagemaker_session.describe_model(model_name)\n",
    "    except Exception as e:\n",
    "        print(e)\n",
    "        pass"
   ]
  },
  {
   "cell_type": "code",
   "execution_count": 21,
   "metadata": {},
   "outputs": [
    {
     "name": "stdout",
     "output_type": "stream",
     "text": [
      "An error occurred (ValidationException) when calling the DescribeModel operation: Could not find model \"arn:aws:sagemaker:us-east-1:326383828736:model/fraud-detect-demo-xgboost-post-smote\".\n",
      "Stored 'model_2_name' (str)\n"
     ]
    }
   ],
   "source": [
    "delete_model_if_exists(sagemaker_session, model_2_name)\n",
    "\n",
    "model_2 = sagemaker_session.create_model_from_job(\n",
    "    name=model_2_name,\n",
    "    training_job_name=training_job_2_info['TrainingJobName'],\n",
    "    role=sagemaker_role,\n",
    "    image_uri=training_job_2_info['AlgorithmSpecification']['TrainingImage'])\n",
    "%store model_2_name"
   ]
  },
  {
   "cell_type": "markdown",
   "metadata": {},
   "source": [
    "<a id='bias-v1'></a>\n",
    "\n",
    "### Check for data set bias and model bias\n",
    "\n",
    "With SageMaker, we can check for pre-training and post-training bias. Pre-training metrics show pre-existing bias in that data, while post-training metrics show bias in the predictions from the model. Using the SageMaker SDK, we can specify which groups we want to check bias across and which metrics we'd like to show. \n",
    "\n",
    "To run the full Clarify job, you must un-comment the code in the cell below. Running the job will take ~15 minutes. If you wish to save time, you can view the results in the next cell after which loads a pre-generated output if no bias job was run."
   ]
  },
  {
   "cell_type": "code",
   "execution_count": 22,
   "metadata": {},
   "outputs": [],
   "source": [
    "clarify_processor = sagemaker.clarify.SageMakerClarifyProcessor(\n",
    "    role=sagemaker_role,\n",
    "    instance_count=1,\n",
    "    instance_type=\"ml.c4.xlarge\",\n",
    "    sagemaker_session=sagemaker_session,\n",
    ")\n",
    "\n",
    "bias_data_config = sagemaker.clarify.DataConfig(\n",
    "    s3_data_input_path=train_data_upsampled_s3_path,\n",
    "    s3_output_path=bias_report_2_output_path,\n",
    "    label=\"fraud\",\n",
    "    headers=train.columns.to_list(),\n",
    "    dataset_type=\"text/csv\",\n",
    ")\n",
    "\n",
    "model_config = sagemaker.clarify.ModelConfig(\n",
    "    model_name=model_2_name,\n",
    "    instance_type=train_instance_type,\n",
    "    instance_count=1,\n",
    "    accept_type=\"text/csv\",\n",
    ")\n",
    "\n",
    "predictions_config = sagemaker.clarify.ModelPredictedLabelConfig(probability_threshold=0.5)\n",
    "\n",
    "bias_config = sagemaker.clarify.BiasConfig(\n",
    "    label_values_or_threshold=[0],\n",
    "    facet_name=\"customer_gender_female\",\n",
    "    facet_values_or_threshold=[1],\n",
    ")\n",
    "\n",
    "# # un-comment the code below to run the whole job\n",
    "\n",
    "# if 'clarify_bias_job_2_name' not in locals():\n",
    "\n",
    "#     clarify_processor.run_bias(\n",
    "#         data_config=bias_data_config,\n",
    "#         bias_config=bias_config,\n",
    "#         model_config=model_config,\n",
    "#         model_predicted_label_config=predictions_config,\n",
    "#         pre_training_methods='all',\n",
    "#         post_training_methods='all')\n",
    "\n",
    "#     clarify_bias_job_2_name = clarify_processor.latest_job.name\n",
    "#     %store clarify_bias_job_2_name\n",
    "\n",
    "# else:\n",
    "#     print(f'Clarify job {clarify_bias_job_2_name} has already run successfully.')"
   ]
  },
  {
   "cell_type": "markdown",
   "metadata": {},
   "source": [
    "## View Results of Clarify Job\n",
    "----\n",
    "\n",
    "Running Clarify on your dataset or model can take ~15 minutes. If you don't have time to run the job, you can view the pre-generated results included with this demo. Otherwise, you can run the job by un-commenting the code in the cell above."
   ]
  },
  {
   "cell_type": "code",
   "execution_count": 23,
   "metadata": {},
   "outputs": [
    {
     "name": "stdout",
     "output_type": "stream",
     "text": [
      "Loading pre-generated analysis file...\n",
      "\n",
      "{\n",
      "    \"name\": \"CI\",\n",
      "    \"description\": \"Class Imbalance (CI)\",\n",
      "    \"value\": 0.398\n",
      "}\n",
      "{\n",
      "    \"name\": \"CI\",\n",
      "    \"description\": \"Class Imbalance (CI)\",\n",
      "    \"value\": 0.0\n",
      "}\n"
     ]
    }
   ],
   "source": [
    "if \"clarify_bias_job_2_name\" in locals():\n",
    "    s3_client.download_file(\n",
    "        Bucket=bucket,\n",
    "        Key=f\"{prefix}/clarify-output/bias-2/analysis.json\",\n",
    "        Filename=\"clarify_output/bias_2/analysis.json\",\n",
    "    )\n",
    "    print(f\"Downloaded analysis from previous Clarify job: {clarify_bias_job_2_name}\\n\")\n",
    "else:\n",
    "    print(f\"Loading pre-generated analysis file...\\n\")\n",
    "\n",
    "with open(\"clarify_output/bias_1/analysis.json\", \"r\") as f:\n",
    "    bias_analysis = json.load(f)\n",
    "\n",
    "results = bias_analysis[\"pre_training_bias_metrics\"][\"facets\"][\"customer_gender_female\"][0][\n",
    "    \"metrics\"\n",
    "][1]\n",
    "print(json.dumps(results, indent=4))\n",
    "\n",
    "with open(\"clarify_output/bias_2/analysis.json\", \"r\") as f:\n",
    "    bias_analysis = json.load(f)\n",
    "\n",
    "results = bias_analysis[\"pre_training_bias_metrics\"][\"facets\"][\"customer_gender_female\"][0][\n",
    "    \"metrics\"\n",
    "][1]\n",
    "print(json.dumps(results, indent=4))"
   ]
  },
  {
   "cell_type": "markdown",
   "metadata": {},
   "source": [
    "## Configure and Run Explainability Job\n",
    "----\n",
    "\n",
    "To run the full Clarify job, you must un-comment the code in the cell below. Running the job will take ~15 minutes. If you wish to save time, you can view the results in the next cell after which loads a pre-generated output if no explainability job was run."
   ]
  },
  {
   "cell_type": "code",
   "execution_count": 24,
   "metadata": {},
   "outputs": [],
   "source": [
    "model_config = sagemaker.clarify.ModelConfig(\n",
    "    model_name=model_2_name,\n",
    "    instance_type=train_instance_type,\n",
    "    instance_count=1,\n",
    "    accept_type=\"text/csv\",\n",
    ")\n",
    "\n",
    "shap_config = sagemaker.clarify.SHAPConfig(\n",
    "    baseline=[train.median().values[1:].tolist()], num_samples=100, agg_method=\"mean_abs\"\n",
    ")\n",
    "\n",
    "explainability_data_config = sagemaker.clarify.DataConfig(\n",
    "    s3_data_input_path=train_data_upsampled_s3_path,\n",
    "    s3_output_path=explainability_output_path,\n",
    "    label=\"fraud\",\n",
    "    headers=train.columns.to_list(),\n",
    "    dataset_type=\"text/csv\",\n",
    ")\n",
    "\n",
    "# un-comment the code below to run the whole job\n",
    "\n",
    "# if \"clarify_expl_job_name\" not in locals():\n",
    "\n",
    "#     clarify_processor.run_explainability(\n",
    "#         data_config=explainability_data_config,\n",
    "#         model_config=model_config,\n",
    "#         explainability_config=shap_config)\n",
    "\n",
    "#     clarify_expl_job_name = clarify_processor.latest_job.name\n",
    "#     %store clarify_expl_job_name\n",
    "\n",
    "# else:\n",
    "#     print(f'Clarify job {clarify_expl_job_name} has already run successfully.')"
   ]
  },
  {
   "cell_type": "markdown",
   "metadata": {},
   "source": [
    "### View Clarify explainability results (shortcut)\n",
    "Running Clarify on your dataset or model can take ~15 minutes. If you don't have time to run the job, you can view the pre-generated results included with this demo. Otherwise, you can run the job by un-commenting the code in the cell above."
   ]
  },
  {
   "cell_type": "code",
   "execution_count": 25,
   "metadata": {},
   "outputs": [
    {
     "name": "stdout",
     "output_type": "stream",
     "text": [
      "Loading pre-generated analysis file...\n",
      "\n"
     ]
    },
    {
     "data": {
      "image/png": "[encoded data removed]",
      "text/plain": [
       "<Figure size 432x288 with 1 Axes>"
      ]
     },
     "metadata": {
      "needs_background": "light"
     },
     "output_type": "display_data"
    }
   ],
   "source": [
    "if \"clarify_expl_job_name\" in locals():\n",
    "    s3_client.download_file(\n",
    "        Bucket=bucket,\n",
    "        Key=f\"{prefix}/clarify-output/explainability/analysis.json\",\n",
    "        Filename=\"clarify_output/explainability/analysis.json\",\n",
    "    )\n",
    "    print(f\"Downloaded analysis from previous Clarify job: {clarify_expl_job_name}\\n\")\n",
    "else:\n",
    "    print(f\"Loading pre-generated analysis file...\\n\")\n",
    "\n",
    "with open(\"clarify_output/explainability/analysis.json\", \"r\") as f:\n",
    "    analysis_result = json.load(f)\n",
    "\n",
    "shap_values = pd.DataFrame(analysis_result[\"explanations\"][\"kernel_shap\"][\"label0\"])\n",
    "importances = shap_values[\"global_shap_values\"].sort_values(ascending=False)\n",
    "fig, ax = plt.subplots()\n",
    "n = 5\n",
    "y_pos = np.arange(n)\n",
    "importance_scores = importances.values[:n]\n",
    "y_label = importances.index[:n]\n",
    "ax.barh(y_pos, importance_scores, align=\"center\")\n",
    "ax.set_yticks(y_pos)\n",
    "ax.set_yticklabels(y_label)\n",
    "ax.invert_yaxis()\n",
    "ax.set_xlabel(\"SHAP Value (impact on model output)\");"
   ]
  },
  {
   "cell_type": "markdown",
   "metadata": {},
   "source": [
    "To see the autogenerated SageMaker Clarify report, run the following code and use the output link to open the report."
   ]
  },
  {
   "cell_type": "code",
   "execution_count": 26,
   "metadata": {},
   "outputs": [
    {
     "data": {
      "text/plain": [
       "'Click link below to view the SageMaker Clarify report'"
      ]
     },
     "metadata": {},
     "output_type": "display_data"
    },
    {
     "data": {
      "text/html": [
       "<a href='clarify_output/report.pdf' target='_blank'>clarify_output/report.pdf</a><br>"
      ],
      "text/plain": [
       "/home/ec2-user/SageMaker/amazon-sagemaker-examples/end_to_end/fraud_detection/clarify_output/report.pdf"
      ]
     },
     "metadata": {},
     "output_type": "display_data"
    }
   ],
   "source": [
    "from IPython.display import FileLink, FileLinks\n",
    "\n",
    "display(\n",
    "    \"Click link below to view the SageMaker Clarify report\", FileLink(\"clarify_output/report.pdf\")\n",
    ")"
   ]
  },
  {
   "cell_type": "markdown",
   "metadata": {},
   "source": [
    "### What is SHAP?\n",
    "SHAP is the method used for calculating explanations in this solution.\n",
    "Unlike other feature attribution methods, such as single feature\n",
    "permutation, SHAP tries to disentangle the effect of a single feature by\n",
    "looking at all possible combinations of features.\n",
    "\n",
    "[SHAP](https://github.com/slundberg/shap) (Lundberg et al. 2017) stands\n",
    "for SHapley Additive exPlanations. 'Shapley' relates to a game theoretic\n",
    "concept called [Shapley\n",
    "values](https://en.wikipedia.org/wiki/Shapley_value) that is used to\n",
    "create the explanations. A Shapley value describes the marginal\n",
    "contribution of each 'player' when considering all possible 'coalitions'.\n",
    "Using this in a machine learning context, a Shapley value  describes the\n",
    "marginal contribution of each feature when considering all possible sets\n",
    "of features. 'Additive' relates to the fact that these Shapley values can\n",
    "be summed together to give the final model prediction.\n",
    "\n",
    "As an example, we might start off with a baseline credit default risk of\n",
    "10%. Given a set of features, we can calculate the Shapley value for each\n",
    "feature. Summing together all the Shapley values, we might obtain a\n",
    "cumulative value of +30%. Given the same set of features, we therefore\n",
    "expect our model to return a credit default risk of 40% (i.e. 10% + 30%)."
   ]
  },
  {
   "cell_type": "markdown",
   "metadata": {},
   "source": [
    "## Create Model Package for the Trained Model\n",
    "----\n"
   ]
  },
  {
   "cell_type": "markdown",
   "metadata": {},
   "source": [
    "#### Create and upload second model metrics report"
   ]
  },
  {
   "cell_type": "code",
   "execution_count": 27,
   "metadata": {},
   "outputs": [],
   "source": [
    "model_metrics_report = {\"binary_classification_metrics\": {}}\n",
    "for metric in training_job_2_info[\"FinalMetricDataList\"]:\n",
    "    stat = {metric[\"MetricName\"]: {\"value\": metric[\"Value\"], \"standard_deviation\": \"NaN\"}}\n",
    "    model_metrics_report[\"binary_classification_metrics\"].update(stat)\n",
    "\n",
    "with open(\"training_metrics.json\", \"w\") as f:\n",
    "    json.dump(model_metrics_report, f)\n",
    "\n",
    "metrics_s3_key = (\n",
    "    f\"{prefix}/training_jobs/{training_job_2_info['TrainingJobName']}/training_metrics.json\"\n",
    ")\n",
    "s3_client.upload_file(Filename=\"training_metrics.json\", Bucket=bucket, Key=metrics_s3_key)"
   ]
  },
  {
   "cell_type": "markdown",
   "metadata": {},
   "source": [
    "#### Define inference specification"
   ]
  },
  {
   "cell_type": "code",
   "execution_count": 28,
   "metadata": {},
   "outputs": [],
   "source": [
    "mp_inference_spec = InferenceSpecification().get_inference_specification_dict(\n",
    "    ecr_image=training_job_2_info[\"AlgorithmSpecification\"][\"TrainingImage\"],\n",
    "    supports_gpu=False,\n",
    "    supported_content_types=[\"text/csv\"],\n",
    "    supported_mime_types=[\"text/csv\"],\n",
    ")\n",
    "\n",
    "mp_inference_spec[\"InferenceSpecification\"][\"Containers\"][0][\"ModelDataUrl\"] = training_job_2_info[\n",
    "    \"ModelArtifacts\"\n",
    "][\"S3ModelArtifacts\"]"
   ]
  },
  {
   "cell_type": "markdown",
   "metadata": {},
   "source": [
    "#### Define model metrics"
   ]
  },
  {
   "cell_type": "code",
   "execution_count": 29,
   "metadata": {},
   "outputs": [],
   "source": [
    "model_metrics = {\n",
    "    \"ModelQuality\": {\n",
    "        \"Statistics\": {\n",
    "            \"ContentType\": \"application/json\",\n",
    "            \"S3Uri\": f\"s3://{bucket}/{metrics_s3_key}\",\n",
    "        }\n",
    "    },\n",
    "    \"Bias\": {\n",
    "        \"Report\": {\n",
    "            \"ContentType\": \"application/json\",\n",
    "            \"S3Uri\": f\"{explainability_output_path}/analysis.json\",\n",
    "        }\n",
    "    },\n",
    "}"
   ]
  },
  {
   "cell_type": "markdown",
   "metadata": {},
   "source": [
    "#### Register second model package to Model Package Group"
   ]
  },
  {
   "cell_type": "code",
   "execution_count": 30,
   "metadata": {},
   "outputs": [],
   "source": [
    "mpg_name = prefix\n",
    "mp_input_dict = {\n",
    "    \"ModelPackageGroupName\": mpg_name,\n",
    "    \"ModelPackageDescription\": \"XGBoost classifier to detect insurance fraud with SMOTE.\",\n",
    "    \"ModelApprovalStatus\": \"PendingManualApproval\",\n",
    "    \"ModelMetrics\": model_metrics,\n",
    "}\n",
    "\n",
    "mp_input_dict.update(mp_inference_spec)\n",
    "mp2_response = sagemaker_boto_client.create_model_package(**mp_input_dict)\n",
    "mp2_arn = mp2_response[\"ModelPackageArn\"]"
   ]
  },
  {
   "cell_type": "markdown",
   "metadata": {},
   "source": [
    "#### Check status of model package creation"
   ]
  },
  {
   "cell_type": "code",
   "execution_count": 31,
   "metadata": {},
   "outputs": [
    {
     "name": "stdout",
     "output_type": "stream",
     "text": [
      "model package status: Completed\n"
     ]
    }
   ],
   "source": [
    "mp_info = sagemaker_boto_client.describe_model_package(\n",
    "    ModelPackageName=mp2_response[\"ModelPackageArn\"]\n",
    ")\n",
    "mp_status = mp_info[\"ModelPackageStatus\"]\n",
    "\n",
    "while mp_status not in [\"Completed\", \"Failed\"]:\n",
    "    time.sleep(5)\n",
    "    mp_info = sagemaker_boto_client.describe_model_package(\n",
    "        ModelPackageName=mp2_response[\"ModelPackageArn\"]\n",
    "    )\n",
    "    mp_status = mp_info[\"ModelPackageStatus\"]\n",
    "    print(f\"model package status: {mp_status}\")\n",
    "print(f\"model package status: {mp_status}\")"
   ]
  },
  {
   "cell_type": "markdown",
   "metadata": {},
   "source": [
    "### View both models in the registry"
   ]
  },
  {
   "cell_type": "code",
   "execution_count": 32,
   "metadata": {},
   "outputs": [
    {
     "data": {
      "text/plain": [
       "[{'ModelPackageGroupName': 'fraud-detect-demo',\n",
       "  'ModelPackageVersion': 14,\n",
       "  'ModelPackageArn': 'arn:aws:sagemaker:us-east-1:326383828736:model-package/fraud-detect-demo/14',\n",
       "  'ModelPackageDescription': 'XGBoost classifier to detect insurance fraud with SMOTE.',\n",
       "  'CreationTime': datetime.datetime(2022, 10, 3, 16, 32, 26, 475000, tzinfo=tzlocal()),\n",
       "  'ModelPackageStatus': 'Completed',\n",
       "  'ModelApprovalStatus': 'PendingManualApproval'},\n",
       " {'ModelPackageGroupName': 'fraud-detect-demo',\n",
       "  'ModelPackageVersion': 13,\n",
       "  'ModelPackageArn': 'arn:aws:sagemaker:us-east-1:326383828736:model-package/fraud-detect-demo/13',\n",
       "  'ModelPackageDescription': 'XGBoost classifier to detect insurance fraud with SMOTE.',\n",
       "  'CreationTime': datetime.datetime(2022, 10, 3, 16, 9, 54, 686000, tzinfo=tzlocal()),\n",
       "  'ModelPackageStatus': 'Completed',\n",
       "  'ModelApprovalStatus': 'Approved'},\n",
       " {'ModelPackageGroupName': 'fraud-detect-demo',\n",
       "  'ModelPackageVersion': 12,\n",
       "  'ModelPackageArn': 'arn:aws:sagemaker:us-east-1:326383828736:model-package/fraud-detect-demo/12',\n",
       "  'ModelPackageDescription': 'XGBoost classifier to detect insurance fraud.',\n",
       "  'CreationTime': datetime.datetime(2022, 10, 3, 14, 48, 54, 505000, tzinfo=tzlocal()),\n",
       "  'ModelPackageStatus': 'Completed',\n",
       "  'ModelApprovalStatus': 'PendingManualApproval'},\n",
       " {'ModelPackageGroupName': 'fraud-detect-demo',\n",
       "  'ModelPackageVersion': 11,\n",
       "  'ModelPackageArn': 'arn:aws:sagemaker:us-east-1:326383828736:model-package/fraud-detect-demo/11',\n",
       "  'ModelPackageDescription': 'XGBoost classifier to detect insurance fraud with SMOTE.',\n",
       "  'CreationTime': datetime.datetime(2022, 10, 3, 6, 40, 54, 66000, tzinfo=tzlocal()),\n",
       "  'ModelPackageStatus': 'Completed',\n",
       "  'ModelApprovalStatus': 'Approved'},\n",
       " {'ModelPackageGroupName': 'fraud-detect-demo',\n",
       "  'ModelPackageVersion': 10,\n",
       "  'ModelPackageArn': 'arn:aws:sagemaker:us-east-1:326383828736:model-package/fraud-detect-demo/10',\n",
       "  'ModelPackageDescription': 'XGBoost classifier to detect insurance fraud with SMOTE.',\n",
       "  'CreationTime': datetime.datetime(2022, 10, 3, 6, 40, 31, 976000, tzinfo=tzlocal()),\n",
       "  'ModelPackageStatus': 'Completed',\n",
       "  'ModelApprovalStatus': 'Approved'},\n",
       " {'ModelPackageGroupName': 'fraud-detect-demo',\n",
       "  'ModelPackageVersion': 9,\n",
       "  'ModelPackageArn': 'arn:aws:sagemaker:us-east-1:326383828736:model-package/fraud-detect-demo/9',\n",
       "  'ModelPackageDescription': 'XGBoost classifier to detect insurance fraud.',\n",
       "  'CreationTime': datetime.datetime(2022, 10, 3, 6, 37, 44, 609000, tzinfo=tzlocal()),\n",
       "  'ModelPackageStatus': 'Completed',\n",
       "  'ModelApprovalStatus': 'PendingManualApproval'},\n",
       " {'ModelPackageGroupName': 'fraud-detect-demo',\n",
       "  'ModelPackageVersion': 8,\n",
       "  'ModelPackageArn': 'arn:aws:sagemaker:us-east-1:326383828736:model-package/fraud-detect-demo/8',\n",
       "  'ModelPackageDescription': 'XGBoost classifier to detect insurance fraud.',\n",
       "  'CreationTime': datetime.datetime(2022, 10, 3, 6, 14, 39, 904000, tzinfo=tzlocal()),\n",
       "  'ModelPackageStatus': 'Completed',\n",
       "  'ModelApprovalStatus': 'PendingManualApproval'},\n",
       " {'ModelPackageGroupName': 'fraud-detect-demo',\n",
       "  'ModelPackageVersion': 7,\n",
       "  'ModelPackageArn': 'arn:aws:sagemaker:us-east-1:326383828736:model-package/fraud-detect-demo/7',\n",
       "  'ModelPackageDescription': 'XGBoost classifier to detect insurance fraud with SMOTE.',\n",
       "  'CreationTime': datetime.datetime(2022, 10, 3, 5, 41, 27, 325000, tzinfo=tzlocal()),\n",
       "  'ModelPackageStatus': 'Completed',\n",
       "  'ModelApprovalStatus': 'Approved'},\n",
       " {'ModelPackageGroupName': 'fraud-detect-demo',\n",
       "  'ModelPackageVersion': 6,\n",
       "  'ModelPackageArn': 'arn:aws:sagemaker:us-east-1:326383828736:model-package/fraud-detect-demo/6',\n",
       "  'ModelPackageDescription': 'XGBoost classifier to detect insurance fraud.',\n",
       "  'CreationTime': datetime.datetime(2022, 10, 3, 5, 34, 59, 501000, tzinfo=tzlocal()),\n",
       "  'ModelPackageStatus': 'Completed',\n",
       "  'ModelApprovalStatus': 'PendingManualApproval'},\n",
       " {'ModelPackageGroupName': 'fraud-detect-demo',\n",
       "  'ModelPackageVersion': 5,\n",
       "  'ModelPackageArn': 'arn:aws:sagemaker:us-east-1:326383828736:model-package/fraud-detect-demo/5',\n",
       "  'ModelPackageDescription': 'XGBoost classifier to detect insurance fraud with SMOTE.',\n",
       "  'CreationTime': datetime.datetime(2022, 10, 3, 5, 12, 31, 820000, tzinfo=tzlocal()),\n",
       "  'ModelPackageStatus': 'Completed',\n",
       "  'ModelApprovalStatus': 'Approved'},\n",
       " {'ModelPackageGroupName': 'fraud-detect-demo',\n",
       "  'ModelPackageVersion': 4,\n",
       "  'ModelPackageArn': 'arn:aws:sagemaker:us-east-1:326383828736:model-package/fraud-detect-demo/4',\n",
       "  'ModelPackageDescription': 'XGBoost classifier to detect insurance fraud with SMOTE.',\n",
       "  'CreationTime': datetime.datetime(2022, 10, 3, 3, 56, 31, 69000, tzinfo=tzlocal()),\n",
       "  'ModelPackageStatus': 'Completed',\n",
       "  'ModelApprovalStatus': 'Approved'},\n",
       " {'ModelPackageGroupName': 'fraud-detect-demo',\n",
       "  'ModelPackageVersion': 3,\n",
       "  'ModelPackageArn': 'arn:aws:sagemaker:us-east-1:326383828736:model-package/fraud-detect-demo/3',\n",
       "  'ModelPackageDescription': 'XGBoost classifier to detect insurance fraud with SMOTE.',\n",
       "  'CreationTime': datetime.datetime(2022, 10, 3, 3, 44, 36, 293000, tzinfo=tzlocal()),\n",
       "  'ModelPackageStatus': 'Completed',\n",
       "  'ModelApprovalStatus': 'Approved'},\n",
       " {'ModelPackageGroupName': 'fraud-detect-demo',\n",
       "  'ModelPackageVersion': 2,\n",
       "  'ModelPackageArn': 'arn:aws:sagemaker:us-east-1:326383828736:model-package/fraud-detect-demo/2',\n",
       "  'ModelPackageDescription': 'XGBoost classifier to detect insurance fraud.',\n",
       "  'CreationTime': datetime.datetime(2022, 10, 3, 3, 39, 33, 910000, tzinfo=tzlocal()),\n",
       "  'ModelPackageStatus': 'Completed',\n",
       "  'ModelApprovalStatus': 'PendingManualApproval'},\n",
       " {'ModelPackageGroupName': 'fraud-detect-demo',\n",
       "  'ModelPackageVersion': 1,\n",
       "  'ModelPackageArn': 'arn:aws:sagemaker:us-east-1:326383828736:model-package/fraud-detect-demo/1',\n",
       "  'ModelPackageDescription': 'XGBoost classifier to detect insurance fraud with SMOTE.',\n",
       "  'CreationTime': datetime.datetime(2022, 10, 2, 5, 47, 7, 276000, tzinfo=tzlocal()),\n",
       "  'ModelPackageStatus': 'Completed',\n",
       "  'ModelApprovalStatus': 'Approved'}]"
      ]
     },
     "execution_count": 32,
     "metadata": {},
     "output_type": "execute_result"
    }
   ],
   "source": [
    "sagemaker_boto_client.list_model_packages(ModelPackageGroupName=mpg_name)[\"ModelPackageSummaryList\"]"
   ]
  },
  {
   "cell_type": "markdown",
   "metadata": {},
   "source": [
    "<a id ='deploy'> </a>\n",
    "\n",
    "## Architecture: Deploy and Serve Model\n",
    "----\n",
    "\n",
    "Now that we have trained a model, we can deploy and serve it. The follwoing picture shows the architecture for doing so.\n",
    "\n",
    "![train-assess-tune-register](./images/e2e-3-pipeline-v3b.png)"
   ]
  },
  {
   "cell_type": "code",
   "execution_count": 33,
   "metadata": {},
   "outputs": [],
   "source": [
    "# variables used for parameterizing the notebook run\n",
    "endpoint_name = f\"{model_2_name}-endpoint\"\n",
    "endpoint_instance_count = 1\n",
    "endpoint_instance_type = \"ml.m4.xlarge\"\n",
    "\n",
    "predictor_instance_count = 1\n",
    "predictor_instance_type = \"ml.c5.xlarge\"\n",
    "batch_transform_instance_count = 1\n",
    "batch_transform_instance_type = \"ml.c5.xlarge\""
   ]
  },
  {
   "cell_type": "markdown",
   "metadata": {},
   "source": [
    "## Deploy an Approved Model and Make a Prediction\n",
    "----"
   ]
  },
  {
   "cell_type": "markdown",
   "metadata": {},
   "source": [
    "#### Approve the second model\n",
    "In the real-life MLOps lifecycle, a model package gets approved after evaluation by data scientists, subject matter experts and auditors."
   ]
  },
  {
   "cell_type": "code",
   "execution_count": 34,
   "metadata": {},
   "outputs": [],
   "source": [
    "second_model_package = sagemaker_boto_client.list_model_packages(ModelPackageGroupName=mpg_name)[\n",
    "    \"ModelPackageSummaryList\"\n",
    "][0]\n",
    "model_package_update = {\n",
    "    \"ModelPackageArn\": second_model_package[\"ModelPackageArn\"],\n",
    "    \"ModelApprovalStatus\": \"Approved\",\n",
    "}\n",
    "\n",
    "update_response = sagemaker_boto_client.update_model_package(**model_package_update)"
   ]
  },
  {
   "cell_type": "markdown",
   "metadata": {},
   "source": [
    "#### Create an endpoint config and an endpoint\n",
    "Deploy the endpoint. This might take about 8minutes."
   ]
  },
  {
   "cell_type": "code",
   "execution_count": 35,
   "metadata": {},
   "outputs": [],
   "source": [
    "primary_container = {\"ModelPackageName\": second_model_package[\"ModelPackageArn\"]}\n",
    "endpoint_config_name = f\"{model_2_name}-endpoint-config\"\n",
    "existing_configs = len(\n",
    "    sagemaker_boto_client.list_endpoint_configs(NameContains=endpoint_config_name, MaxResults=30)[\n",
    "        \"EndpointConfigs\"\n",
    "    ]\n",
    ")\n",
    "\n",
    "if existing_configs == 0:\n",
    "    create_ep_config_response = sagemaker_boto_client.create_endpoint_config(\n",
    "        EndpointConfigName=endpoint_config_name,\n",
    "        ProductionVariants=[\n",
    "            {\n",
    "                \"InstanceType\": endpoint_instance_type,\n",
    "                \"InitialVariantWeight\": 1,\n",
    "                \"InitialInstanceCount\": endpoint_instance_count,\n",
    "                \"ModelName\": model_2_name,\n",
    "                \"VariantName\": \"AllTraffic\",\n",
    "            }\n",
    "        ],\n",
    "    )"
   ]
  },
  {
   "cell_type": "code",
   "execution_count": 36,
   "metadata": {},
   "outputs": [
    {
     "name": "stdout",
     "output_type": "stream",
     "text": [
      "Waiting for fraud-detect-demo-xgboost-post-smote-endpoint endpoint deletion\n",
      "Endpoint status: Creating\n",
      "Endpoint status: Creating\n",
      "Endpoint status: Creating\n",
      "Endpoint status: Creating\n",
      "Endpoint status: InService\n"
     ]
    }
   ],
   "source": [
    "def delete_endpoint_if_exists(sagemaker_boto_client, endpoint_name):\n",
    "    existing_endpoints = sagemaker_boto_client.list_endpoints(\n",
    "        NameContains=endpoint_name, MaxResults=30\n",
    "    )[\"Endpoints\"]\n",
    "    if existing_endpoints:\n",
    "        delete_endpoint_response = sagemaker_boto_client.delete_endpoint(\n",
    "            EndpointName=endpoint_name\n",
    "        )\n",
    "    while True:\n",
    "        existing_endpoints = sagemaker_boto_client.list_endpoints(\n",
    "            NameContains=endpoint_name, MaxResults=30\n",
    "        )[\"Endpoints\"]\n",
    "        if not existing_endpoints:\n",
    "            break\n",
    "        else:\n",
    "            print(\"Waiting for {} endpoint deletion\".format(endpoint_name))\n",
    "            time.sleep(5)\n",
    "\n",
    "delete_endpoint_if_exists(sagemaker_boto_client, endpoint_name)\n",
    "\n",
    "create_endpoint_response = sagemaker_boto_client.create_endpoint(\n",
    "    EndpointName=endpoint_name, EndpointConfigName=endpoint_config_name\n",
    ")\n",
    "\n",
    "endpoint_info = sagemaker_boto_client.describe_endpoint(EndpointName=endpoint_name)\n",
    "endpoint_status = endpoint_info[\"EndpointStatus\"]\n",
    "\n",
    "while endpoint_status == \"Creating\":\n",
    "    endpoint_info = sagemaker_boto_client.describe_endpoint(EndpointName=endpoint_name)\n",
    "    endpoint_status = endpoint_info[\"EndpointStatus\"]\n",
    "    print(\"Endpoint status:\", endpoint_status)\n",
    "    if endpoint_status == \"Creating\":\n",
    "        time.sleep(60)"
   ]
  },
  {
   "cell_type": "markdown",
   "metadata": {},
   "source": [
    "## Run Predictions on Claims\n",
    "----"
   ]
  },
  {
   "cell_type": "markdown",
   "metadata": {},
   "source": [
    "<a id='predictor'> </a>\n",
    "\n",
    "### Create a predictor"
   ]
  },
  {
   "cell_type": "code",
   "execution_count": 37,
   "metadata": {},
   "outputs": [],
   "source": [
    "predictor = sagemaker.predictor.Predictor(\n",
    "    endpoint_name=endpoint_name, sagemaker_session=sagemaker_session\n",
    ")"
   ]
  },
  {
   "cell_type": "markdown",
   "metadata": {},
   "source": [
    "### Sample a claim from the test data"
   ]
  },
  {
   "cell_type": "code",
   "execution_count": 38,
   "metadata": {},
   "outputs": [],
   "source": [
    "dataset = pd.read_csv(\"data/dataset.csv\")\n",
    "train = dataset.sample(frac=0.8, random_state=0)\n",
    "test = dataset.drop(train.index)\n",
    "sample_policy_id = int(test.sample(1)[\"policy_id\"])"
   ]
  },
  {
   "cell_type": "code",
   "execution_count": 39,
   "metadata": {},
   "outputs": [
    {
     "name": "stdout",
     "output_type": "stream",
     "text": [
      "<class 'pandas.core.frame.DataFrame'>\n",
      "Int64Index: 1000 entries, 0 to 4997\n",
      "Data columns (total 48 columns):\n",
      " #   Column                           Non-Null Count  Dtype  \n",
      "---  ------                           --------------  -----  \n",
      " 0   Unnamed: 0                       1000 non-null   int64  \n",
      " 1   policy_id                        1000 non-null   int64  \n",
      " 2   num_vehicles_involved            1000 non-null   int64  \n",
      " 3   collision_type_side              1000 non-null   int64  \n",
      " 4   auto_year                        1000 non-null   int64  \n",
      " 5   policy_annual_premium            1000 non-null   int64  \n",
      " 6   authorities_contacted_police     1000 non-null   int64  \n",
      " 7   policy_liability                 1000 non-null   int64  \n",
      " 8   num_injuries                     1000 non-null   int64  \n",
      " 9   incident_type_theft              1000 non-null   int64  \n",
      " 10  customer_gender_male             1000 non-null   int64  \n",
      " 11  collision_type_front             1000 non-null   int64  \n",
      " 12  total_claim_amount               1000 non-null   float64\n",
      " 13  months_as_customer               1000 non-null   int64  \n",
      " 14  customer_education               1000 non-null   int64  \n",
      " 15  policy_state_wa                  1000 non-null   int64  \n",
      " 16  incident_day                     1000 non-null   int64  \n",
      " 17  driver_relationship_na           1000 non-null   int64  \n",
      " 18  num_insurers_past_5_years        1000 non-null   int64  \n",
      " 19  incident_dow                     1000 non-null   int64  \n",
      " 20  policy_state_az                  1000 non-null   int64  \n",
      " 21  incident_month                   1000 non-null   int64  \n",
      " 22  customer_gender_female           1000 non-null   int64  \n",
      " 23  driver_relationship_spouse       1000 non-null   int64  \n",
      " 24  driver_relationship_child        1000 non-null   int64  \n",
      " 25  incident_type_collision          1000 non-null   int64  \n",
      " 26  policy_state_ca                  1000 non-null   int64  \n",
      " 27  policy_state_id                  1000 non-null   int64  \n",
      " 28  incident_severity                1000 non-null   int64  \n",
      " 29  vehicle_claim                    1000 non-null   float64\n",
      " 30  authorities_contacted_fire       1000 non-null   int64  \n",
      " 31  collision_type_na                1000 non-null   int64  \n",
      " 32  authorities_contacted_none       1000 non-null   int64  \n",
      " 33  customer_age                     1000 non-null   int64  \n",
      " 34  num_witnesses                    1000 non-null   int64  \n",
      " 35  injury_claim                     1000 non-null   float64\n",
      " 36  policy_deductable                1000 non-null   int64  \n",
      " 37  policy_state_or                  1000 non-null   int64  \n",
      " 38  driver_relationship_self         1000 non-null   int64  \n",
      " 39  incident_type_breakin            1000 non-null   int64  \n",
      " 40  fraud                            1000 non-null   int64  \n",
      " 41  policy_state_nv                  1000 non-null   int64  \n",
      " 42  police_report_available          1000 non-null   int64  \n",
      " 43  incident_hour                    1000 non-null   int64  \n",
      " 44  driver_relationship_other        1000 non-null   int64  \n",
      " 45  num_claims_past_year             1000 non-null   int64  \n",
      " 46  collision_type_rear              1000 non-null   int64  \n",
      " 47  authorities_contacted_ambulance  1000 non-null   int64  \n",
      "dtypes: float64(3), int64(45)\n",
      "memory usage: 382.8 KB\n"
     ]
    }
   ],
   "source": [
    "test.info()"
   ]
  },
  {
   "cell_type": "markdown",
   "metadata": {},
   "source": [
    "### Get Multiple Claims"
   ]
  },
  {
   "cell_type": "code",
   "execution_count": 40,
   "metadata": {},
   "outputs": [
    {
     "data": {
      "text/plain": [
       "['fraud',\n",
       " 'num_vehicles_involved',\n",
       " 'collision_type_side',\n",
       " 'auto_year',\n",
       " 'policy_annual_premium',\n",
       " 'authorities_contacted_police',\n",
       " 'policy_liability',\n",
       " 'num_injuries',\n",
       " 'incident_type_theft',\n",
       " 'customer_gender_male',\n",
       " 'collision_type_front',\n",
       " 'total_claim_amount',\n",
       " 'months_as_customer',\n",
       " 'customer_education',\n",
       " 'policy_state_wa',\n",
       " 'incident_day',\n",
       " 'driver_relationship_na',\n",
       " 'num_insurers_past_5_years',\n",
       " 'incident_dow',\n",
       " 'policy_state_az',\n",
       " 'incident_month',\n",
       " 'customer_gender_female',\n",
       " 'driver_relationship_spouse',\n",
       " 'driver_relationship_child',\n",
       " 'incident_type_collision',\n",
       " 'policy_state_ca',\n",
       " 'policy_state_id',\n",
       " 'incident_severity',\n",
       " 'vehicle_claim',\n",
       " 'authorities_contacted_fire',\n",
       " 'collision_type_na',\n",
       " 'authorities_contacted_none',\n",
       " 'customer_age',\n",
       " 'num_witnesses',\n",
       " 'injury_claim',\n",
       " 'policy_deductable',\n",
       " 'policy_state_or',\n",
       " 'driver_relationship_self',\n",
       " 'incident_type_breakin',\n",
       " 'policy_state_nv',\n",
       " 'police_report_available',\n",
       " 'incident_hour',\n",
       " 'driver_relationship_other',\n",
       " 'num_claims_past_year',\n",
       " 'collision_type_rear',\n",
       " 'authorities_contacted_ambulance']"
      ]
     },
     "execution_count": 40,
     "metadata": {},
     "output_type": "execute_result"
    }
   ],
   "source": [
    "dataset = pd.read_csv(\"./data/claims_customer.csv\")\n",
    "col_order = [\"fraud\"] + list(dataset.drop([\"fraud\", \"Unnamed: 0\", \"policy_id\"], axis=1).columns)\n",
    "col_order"
   ]
  },
  {
   "cell_type": "code",
   "execution_count": 41,
   "metadata": {},
   "outputs": [
    {
     "data": {
      "text/plain": [
       "['fraud',\n",
       " 'num_vehicles_involved',\n",
       " 'collision_type_side',\n",
       " 'auto_year',\n",
       " 'policy_annual_premium',\n",
       " 'authorities_contacted_police',\n",
       " 'policy_liability',\n",
       " 'num_injuries',\n",
       " 'incident_type_theft',\n",
       " 'customer_gender_male',\n",
       " 'collision_type_front',\n",
       " 'total_claim_amount',\n",
       " 'months_as_customer',\n",
       " 'customer_education',\n",
       " 'policy_state_wa',\n",
       " 'incident_day',\n",
       " 'driver_relationship_na',\n",
       " 'num_insurers_past_5_years',\n",
       " 'incident_dow',\n",
       " 'policy_state_az',\n",
       " 'incident_month',\n",
       " 'customer_gender_female',\n",
       " 'driver_relationship_spouse',\n",
       " 'driver_relationship_child',\n",
       " 'incident_type_collision',\n",
       " 'policy_state_ca',\n",
       " 'policy_state_id',\n",
       " 'incident_severity',\n",
       " 'vehicle_claim',\n",
       " 'authorities_contacted_fire',\n",
       " 'collision_type_na',\n",
       " 'authorities_contacted_none',\n",
       " 'customer_age',\n",
       " 'num_witnesses',\n",
       " 'injury_claim',\n",
       " 'policy_deductable',\n",
       " 'policy_state_or',\n",
       " 'driver_relationship_self',\n",
       " 'incident_type_breakin',\n",
       " 'policy_state_nv',\n",
       " 'police_report_available',\n",
       " 'incident_hour',\n",
       " 'driver_relationship_other',\n",
       " 'num_claims_past_year',\n",
       " 'collision_type_rear',\n",
       " 'authorities_contacted_ambulance']"
      ]
     },
     "execution_count": 41,
     "metadata": {},
     "output_type": "execute_result"
    }
   ],
   "source": [
    "col_order"
   ]
  },
  {
   "cell_type": "markdown",
   "metadata": {},
   "source": [
    "### Pull customer data and format the datapoint\n",
    "When a customer submits an insurance claim online for instant approval, the insurance company will need to pull customer-specific data. You can do it either using the customer data we have stored in a CSV files or an online feature store to add to the claim data. The pulled data will serve as input for a model prediction.\n",
    "\n",
    "Then, the datapoint must match the exact input format as the model was trained--with all features in the correct order. In this example, the `col_order` variable was saved when you created the train and test datasets earlier in the guide."
   ]
  },
  {
   "cell_type": "code",
   "execution_count": 42,
   "metadata": {},
   "outputs": [
    {
     "data": {
      "text/plain": [
       "'1.0,1.0,2014.0,3000.0,0.0,2.0,0.0,0.0,1.0,0.0,12000.0,161.0,0.0,0.0,20.0,0.0,1.0,6.0,0.0,1.0,0.0,0.0,0.0,1.0,1.0,0.0,0.0,12000.0,0.0,0.0,1.0,44.0,0.0,0.0,750.0,0.0,1.0,0.0,0.0,0.0,17.0,0.0,0.0,0.0,0.0'"
      ]
     },
     "execution_count": 42,
     "metadata": {},
     "output_type": "execute_result"
    }
   ],
   "source": [
    "sample_policy_id = int(test.sample(1)[\"policy_id\"])\n",
    "pull_from_feature_store = False\n",
    "\n",
    "if pull_from_feature_store:\n",
    "    customers_response = featurestore_runtime.get_record(\n",
    "        FeatureGroupName=customers_fg_name, RecordIdentifierValueAsString=str(sample_policy_id)\n",
    "    )\n",
    "\n",
    "    customer_record = customers_response[\"Record\"]\n",
    "    customer_df = pd.DataFrame(customer_record).set_index(\"FeatureName\")\n",
    "\n",
    "    claims_response = featurestore_runtime.get_record(\n",
    "        FeatureGroupName=claims_fg_name, RecordIdentifierValueAsString=str(sample_policy_id)\n",
    "    )\n",
    "\n",
    "    claims_record = claims_response[\"Record\"]\n",
    "    claims_df = pd.DataFrame(claims_record).set_index(\"FeatureName\")\n",
    "\n",
    "    blended_df = pd.concat([claims_df, customer_df]).loc[col_order].drop(\"fraud\")\n",
    "else:\n",
    "    customer_claim_df = dataset[dataset[\"policy_id\"] == sample_policy_id].sample(1)\n",
    "    blended_df = customer_claim_df.loc[:, col_order].drop(\"fraud\", axis=1).T.reset_index()\n",
    "    blended_df.columns = [\"FeatureName\", \"ValueAsString\"]\n",
    "\n",
    "data_input = \",\".join([str(x) for x in blended_df[\"ValueAsString\"]])\n",
    "data_input"
   ]
  },
  {
   "cell_type": "markdown",
   "metadata": {},
   "source": [
    "### Make prediction"
   ]
  },
  {
   "cell_type": "code",
   "execution_count": 43,
   "metadata": {},
   "outputs": [
    {
     "name": "stdout",
     "output_type": "stream",
     "text": [
      "Probablitity the claim from policy 2839 is fraudulent: 0.03418382629752159\n"
     ]
    }
   ],
   "source": [
    "results = predictor.predict(data_input, initial_args={\"ContentType\": \"text/csv\"})\n",
    "prediction = json.loads(results)\n",
    "print(f\"Probablitity the claim from policy {int(sample_policy_id)} is fraudulent:\", prediction)"
   ]
  },
  {
   "cell_type": "code",
   "execution_count": null,
   "metadata": {},
   "outputs": [],
   "source": []
  }
 ],
 "metadata": {
  "instance_type": "ml.t3.medium",
  "kernelspec": {
   "display_name": "conda_python3",
   "language": "python",
   "name": "conda_python3"
  },
  "language_info": {
   "codemirror_mode": {
    "name": "ipython",
    "version": 3
   },
   "file_extension": ".py",
   "mimetype": "text/x-python",
   "name": "python",
   "nbconvert_exporter": "python",
   "pygments_lexer": "ipython3",
   "version": "3.6.13"
  }
 },
 "nbformat": 4,
 "nbformat_minor": 4
}
